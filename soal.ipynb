{
 "cells": [
  {
   "cell_type": "code",
   "execution_count": 3,
   "metadata": {},
   "outputs": [
    {
     "name": "stdout",
     "output_type": "stream",
     "text": [
      "3 nilai terbaik yaitu=  [100, 98, 96]\n"
     ]
    }
   ],
   "source": [
    "#Nomer1\n",
    "daftar_nilai = [96, 98, 73, 100, 80, 85, 70, 60, 65]\n",
    "sorted_nilai = sorted(daftar_nilai, reverse=True)\n",
    "nilai_terbaik = sorted_nilai[:3]\n",
    "\n",
    "print(\"3 nilai terbaik yaitu= \", nilai_terbaik)\n"
   ]
  },
  {
   "cell_type": "code",
   "execution_count": 5,
   "metadata": {},
   "outputs": [
    {
     "name": "stdout",
     "output_type": "stream",
     "text": [
      "angka yang dimasukkan adalah =  [33.0]\n",
      "nilai max dari inputan adalah =  33.0\n",
      "nilai min dari inputan adalah =  33.0\n",
      "angka yang dimasukkan adalah =  [33.0, 45.0]\n",
      "nilai max dari inputan adalah =  45.0\n",
      "nilai min dari inputan adalah =  33.0\n",
      "angka yang dimasukkan adalah =  [33.0, 45.0, 80.0]\n",
      "nilai max dari inputan adalah =  80.0\n",
      "nilai min dari inputan adalah =  33.0\n",
      "angka yang dimasukkan adalah =  [33.0, 45.0, 80.0, 96.0]\n",
      "nilai max dari inputan adalah =  96.0\n",
      "nilai min dari inputan adalah =  33.0\n",
      "angka yang dimasukkan adalah =  [33.0, 45.0, 80.0, 96.0, 100.0]\n",
      "nilai max dari inputan adalah =  100.0\n",
      "nilai min dari inputan adalah =  33.0\n",
      "user sudah selesai memasukan angka\n"
     ]
    }
   ],
   "source": [
    "#Nomer 2\n",
    "angka = []\n",
    "while True:\n",
    "    input_angka = input ('masukkan angka (masukkan kata done ketika selesai memasukan angka)= ')\n",
    "    if input_angka.lower() == 'done':\n",
    "        print('user sudah selesai memasukan angka')\n",
    "        break\n",
    "    try:\n",
    "        inputan = float(input_angka)\n",
    "        angka.append(inputan)\n",
    "    except ValueError:\n",
    "        print(\"INPUTAN TIDAK VALID!! masukkan angka atau 'done'\")\n",
    "    \n",
    "    if angka:\n",
    "        nilai_max = max(angka)\n",
    "        nilai_min = min(angka)\n",
    "        print(\"angka yang dimasukkan adalah = \", angka)\n",
    "        print(\"nilai max dari inputan adalah = \", nilai_max)\n",
    "        print(\"nilai min dari inputan adalah = \", nilai_min)\n",
    "    else:\n",
    "        print(\"tidak ada angka yang di inputkan\")"
   ]
  },
  {
   "cell_type": "code",
   "execution_count": 10,
   "metadata": {},
   "outputs": [
    {
     "name": "stdout",
     "output_type": "stream",
     "text": [
      "ISI BERITA\n",
      "Jakarta - Perayaan Hari Buruh Sedunia atau May Day di Jakarta berakhir sore ini. Pihak kepolisian memastikan perayaan hingga demo hari ini berlangsung aman.\n",
      "\"Tidak ada, gesekan tidak ada, situasi aman. Semuanya mengikuti arahan petugas di lapangan,\" kata Kabid Humas Polda Metro Jaya Kombes Ade Ary kepada wartawan di Jakarta, Rabu (1/5/2024).\n",
      "\n",
      "Ade mengatakan pihaknya memang menemukan sejumlah pelanggaran lalu lintas selama aksi May Day di Jakarta berlangsung. Bentuk pelanggaran itu tercatat dalam sistem tilang elektronik (e-TLE).\n",
      "\n",
      "Baca artikel detiknews, \"Polda Metro Pastikan Aksi May Day di Jakarta Berjalan Aman: Tak Ada Gesekan\" selengkapnya https://news.detik.com/berita/d-7320082/polda-metro-pastikan-aksi-may-day-di-jakarta-berjalan-aman-tak-ada-gesekan.\n",
      "\n",
      "\n",
      "KATA UNIK PADA BERITA\n",
      "['Jakarta', '-', 'Perayaan', 'Hari', 'Buruh', 'Sedunia', 'atau', 'May', 'Day', 'di', 'Jakarta', 'berakhir', 'sore', 'ini.', 'Pihak', 'kepolisian', 'memastikan', 'perayaan', 'hingga', 'demo', 'hari', 'ini', 'berlangsung', 'aman.']\n",
      "['\"Tidak', 'ada,', 'gesekan', 'tidak', 'ada,', 'situasi', 'aman.', 'Semuanya', 'mengikuti', 'arahan', 'petugas', 'di', 'lapangan,\"', 'kata', 'Kabid', 'Humas', 'Polda', 'Metro', 'Jaya', 'Kombes', 'Ade', 'Ary', 'kepada', 'wartawan', 'di', 'Jakarta,', 'Rabu', '(1/5/2024).']\n",
      "[]\n",
      "['Ade', 'mengatakan', 'pihaknya', 'memang', 'menemukan', 'sejumlah', 'pelanggaran', 'lalu', 'lintas', 'selama', 'aksi', 'May', 'Day', 'di', 'Jakarta', 'berlangsung.', 'Bentuk', 'pelanggaran', 'itu', 'tercatat', 'dalam', 'sistem', 'tilang', 'elektronik', '(e-TLE).']\n",
      "[]\n",
      "['Baca', 'artikel', 'detiknews,', '\"Polda', 'Metro', 'Pastikan', 'Aksi', 'May', 'Day', 'di', 'Jakarta', 'Berjalan', 'Aman:', 'Tak', 'Ada', 'Gesekan\"', 'selengkapnya', 'https://news.detik.com/berita/d-7320082/polda-metro-pastikan-aksi-may-day-di-jakarta-berjalan-aman-tak-ada-gesekan.']\n",
      "[]\n"
     ]
    }
   ],
   "source": [
    "#Nomer 3\n",
    "def kt_unik(file):\n",
    "    kata_unik = []\n",
    "    try:\n",
    "        with open(file, 'r') as buka_file:\n",
    "            isi_file = buka_file.read()\n",
    "            print (\"ISI BERITA\")\n",
    "            print(isi_file)\n",
    "        with open(file, 'r') as buka_file:\n",
    "            for line in buka_file:\n",
    "                kata = line.strip().split()\n",
    "                kata_unik.append(kata)\n",
    "    except FileNotFoundError:\n",
    "        print('file tidak ditemukan')\n",
    "    return kata_unik\n",
    "def main():\n",
    "    file = 'berita.txt'\n",
    "\n",
    "    kata_unik = kt_unik(file)\n",
    "    print(\"KATA UNIK PADA BERITA\")\n",
    "    for kata in kata_unik:\n",
    "        print(kata)\n",
    "\n",
    "if __name__ == '__main__':\n",
    "    main()"
   ]
  }
 ],
 "metadata": {
  "kernelspec": {
   "display_name": "Python 3",
   "language": "python",
   "name": "python3"
  },
  "language_info": {
   "codemirror_mode": {
    "name": "ipython",
    "version": 3
   },
   "file_extension": ".py",
   "mimetype": "text/x-python",
   "name": "python",
   "nbconvert_exporter": "python",
   "pygments_lexer": "ipython3",
   "version": "3.12.0"
  }
 },
 "nbformat": 4,
 "nbformat_minor": 2
}
